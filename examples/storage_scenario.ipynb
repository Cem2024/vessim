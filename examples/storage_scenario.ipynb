{
 "cells": [
  {
   "cell_type": "markdown",
   "metadata": {},
   "source": [
    "# Storage Scenario\n",
    "\n",
    "More documentaion on the usage of [vessim.storage](https://github.com/dos-group/vessim/blob/main/vessim/storage.py) module with the `Storage()` and `StoragePolicy` abstract base classes will follow in the future."
   ]
  }
 ],
 "metadata": {
  "language_info": {
   "name": "python"
  }
 },
 "nbformat": 4,
 "nbformat_minor": 2
}
