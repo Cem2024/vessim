{
 "cells": [
  {
   "cell_type": "markdown",
   "metadata": {},
   "source": [
    "# Basic Scenario\n",
    "\n",
    "In this basic scenario, we will be simulating a small data center equipped with\n",
    "photovoltaic (PV) modules and a simple battery system. First, we need to import\n",
    "all necessary vessim modules and datasets, we will be using for this scenario."
   ]
  },
  {
   "cell_type": "code",
   "execution_count": 1,
   "metadata": {},
   "outputs": [],
   "source": [
    "from vessim.actor import ComputingSystem, Generator\n",
    "from vessim.controller import Monitor\n",
    "from vessim.cosim import Environment\n",
    "from vessim.power_meter import MockPowerMeter\n",
    "from vessim.signal import HistoricalSignal\n",
    "from vessim.storage import SimpleBattery\n",
    "\n",
    "# Jupyter async bug fix\n",
    "import nest_asyncio\n",
    "\n",
    "nest_asyncio.apply()"
   ]
  },
  {
   "cell_type": "markdown",
   "metadata": {},
   "source": [
    "The vessim Environment holds all simulation components and is defined at the\n",
    "very start of our scenario. We initialize it with the start date of our\n",
    "simulation. "
   ]
  },
  {
   "cell_type": "code",
   "execution_count": 2,
   "metadata": {},
   "outputs": [],
   "source": [
    "environment = Environment(sim_start=\"2020-06-11 00:00:00\")"
   ]
  },
  {
   "cell_type": "markdown",
   "metadata": {},
   "source": [
    "Central to our vessim Environment is the Microgrid component. The Microgrid\n",
    "holds and connects all Actors, Controllers and Storage entities. Actors can\n",
    "consume and produce power. An excess or deficiency in power can be fed to or\n",
    "drawn from Storage. Controller entities can react to the Actors activity and the\n",
    "total power delta that is drawn from or fed to the electrical grid. For now, the\n",
    "only controller is a monitor, which stores all simulation data in a CSV file."
   ]
  },
  {
   "cell_type": "code",
   "execution_count": 3,
   "metadata": {},
   "outputs": [
    {
     "name": "stderr",
     "output_type": "stream",
     "text": [
      "\u001b[32m2024-02-17 16:55:55.143\u001b[0m | \u001b[1mINFO    \u001b[0m | \u001b[36mmosaik.scenario\u001b[0m:\u001b[36mstart\u001b[0m:\u001b[36m280\u001b[0m - \u001b[1mStarting \"Grid\" as \"Grid-0\" ...\u001b[0m\n",
      "\u001b[32m2024-02-17 16:55:55.144\u001b[0m | \u001b[1mINFO    \u001b[0m | \u001b[36mmosaik.scenario\u001b[0m:\u001b[36mstart\u001b[0m:\u001b[36m280\u001b[0m - \u001b[1mStarting \"Actor\" as \"Actor-0\" ...\u001b[0m\n",
      "\u001b[32m2024-02-17 16:55:55.145\u001b[0m | \u001b[1mINFO    \u001b[0m | \u001b[36mmosaik.scenario\u001b[0m:\u001b[36mstart\u001b[0m:\u001b[36m280\u001b[0m - \u001b[1mStarting \"Actor\" as \"Actor-1\" ...\u001b[0m\n",
      "\u001b[32m2024-02-17 16:55:55.145\u001b[0m | \u001b[1mINFO    \u001b[0m | \u001b[36mmosaik.scenario\u001b[0m:\u001b[36mstart\u001b[0m:\u001b[36m280\u001b[0m - \u001b[1mStarting \"Controller\" as \"Controller-0\" ...\u001b[0m\n",
      "\u001b[32m2024-02-17 16:55:55.147\u001b[0m | \u001b[1mINFO    \u001b[0m | \u001b[36mmosaik.scenario\u001b[0m:\u001b[36mrun\u001b[0m:\u001b[36m598\u001b[0m - \u001b[1mStarting simulation.\u001b[0m\n",
      "100%|\u001b[32m██████████\u001b[0m| 86400/86400 [00:00<00:00, 181318.86steps/s]\n",
      "\u001b[32m2024-02-17 16:55:55.626\u001b[0m | \u001b[1mINFO    \u001b[0m | \u001b[36mmosaik.scenario\u001b[0m:\u001b[36mrun\u001b[0m:\u001b[36m646\u001b[0m - \u001b[1mSimulation finished successfully.\u001b[0m\n"
     ]
    }
   ],
   "source": [
    "monitor = Monitor()  # stores simulation result on each step\n",
    "environment.add_microgrid(\n",
    "    actors=[\n",
    "        ComputingSystem(power_meters=[MockPowerMeter(p=3), MockPowerMeter(p=7)]),\n",
    "        Generator(signal=HistoricalSignal.from_dataset(\"solcast2022_global\"), column=\"Berlin\"),\n",
    "    ],\n",
    "    controllers=[monitor],\n",
    "    storage=SimpleBattery(capacity=100),\n",
    "    step_size=60,  # global step size (can be overridden by actors or controllers)\n",
    ")\n",
    "\n",
    "environment.run(until=24 * 3600)  # 24h\n",
    "monitor.to_csv(\"result.csv\")"
   ]
  },
  {
   "cell_type": "markdown",
   "metadata": {},
   "source": [
    "This scenario includes two Actors: a computing system with two power consuming\n",
    "nodes, and a generator which produces power based on historic solar data,\n",
    "turning it into a PV module. \n",
    "\n",
    "All Actors must be subclassed from the `Actor` ABC from `vessim.actor` and at\n",
    "least implement the abstract method `p()` which returns the current power\n",
    "consumption or production."
   ]
  },
  {
   "cell_type": "raw",
   "metadata": {
    "raw_mimetype": "text/restructuredtext"
   },
   "source": [
    ".. automodule:: vessim.actor\n",
    "    :members: Actor\n",
    "    :noindex:"
   ]
  }
 ],
 "metadata": {
  "kernelspec": {
   "display_name": "venv",
   "language": "python",
   "name": "python3"
  },
  "language_info": {
   "codemirror_mode": {
    "name": "ipython",
    "version": 3
   },
   "file_extension": ".py",
   "mimetype": "text/x-python",
   "name": "python",
   "nbconvert_exporter": "python",
   "pygments_lexer": "ipython3",
   "version": "3.12.1"
  }
 },
 "nbformat": 4,
 "nbformat_minor": 2
}
