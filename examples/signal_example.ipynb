{
 "cells": [
  {
   "cell_type": "markdown",
   "metadata": {},
   "source": [
    "The signals are the main components in vessim for feeding simulations its data. This can be, for instance, a live signal for solar irradience data or a signal retrieving data from a historical time-series dataset on carbon intensity of the public grid. The abstract base class thereby contains a single function `at()` to be overwritten by its subclasses. It takes a datetime or a datetime-like string as well as some optional key-word arguments, and returns the data point of the signal at the given time.\n",
    "```python\n",
    "class Signal(ABC):\n",
    "    \"\"\"Abstract base class for signals.\"\"\"\n",
    "\n",
    "    @abstractmethod\n",
    "    def at(self, dt: DatetimeLike, **kwargs):\n",
    "        \"\"\"Retrieves actual data point at given time.\"\"\"\n",
    "```        "
   ]
  },
  {
   "cell_type": "markdown",
   "metadata": {},
   "source": [
    "To extract data from a historical dataset, the HistoricalSignal from vessim can be used. In addition to actual data, this class also supports the retrieval of forecasted data. A toy example would look like this:"
   ]
  },
  {
   "cell_type": "code",
   "execution_count": 1,
   "metadata": {},
   "outputs": [],
   "source": [
    "import pandas as pd\n",
    "from vessim.signal import HistoricalSignal\n",
    "\n",
    "# Mock actual data at two different places\n",
    "# The data doesn't have to be sorted and can contain NaN values\n",
    "actual_data = [\n",
    "   [\"2020-01-01T00:00:00\", 100, 800],\n",
    "   [\"2020-01-01T00:30:00\", 110, 850],\n",
    "   [\"2020-01-01T01:00:00\", 105, 820],\n",
    "   [\"2020-01-01T01:30:00\", 108, 840],\n",
    "]\n",
    "actual = pd.DataFrame(\n",
    "   actual_data, columns=[\"timestamp\", \"zone_a\", \"zone_b\"]\n",
    ")\n",
    "actual.set_index([\"timestamp\"], inplace=True)\n",
    "\n",
    "# Depending on the type of forecast, there can be either one or two indices\n",
    "# In this case, the first column marks the time when the forecast was made\n",
    "# an the second one marks the time the forecast was made for\n",
    "forecast_data = [\n",
    "   [\"2020-01-01T00:00:00\", \"2020-01-01T00:30:00\", 115, 850],\n",
    "   [\"2020-01-01T00:00:00\", \"2020-01-01T01:00:00\", 110, 870],\n",
    "   [\"2020-01-01T00:00:00\", \"2020-01-01T01:30:00\", 110, 860],\n",
    "   [\"2020-01-01T00:00:00\", \"2020-01-01T02:00:00\", 120, 830],\n",
    "   [\"2020-01-01T01:00:00\", \"2020-01-01T01:30:00\", 115, 840],\n",
    "   [\"2020-01-01T01:00:00\", \"2020-01-01T02:00:00\", 110, 830],\n",
    "]\n",
    "forecast = pd.DataFrame(\n",
    "   forecast_data, columns=[\"req_time\", \"forecast_time\", \"zone_a\", \"zone_b\"]\n",
    ")\n",
    "\n",
    "# The order of the indices is important here\n",
    "forecast.set_index([\"req_time\", \"forecast_time\"], inplace=True)\n",
    "\n",
    "custom_signal = HistoricalSignal(actual, forecast, fill_method=\"ffill\")\n"
   ]
  },
  {
   "cell_type": "markdown",
   "metadata": {},
   "source": [
    "Now, it is possible to query actual and forecasted data, using this class."
   ]
  },
  {
   "cell_type": "code",
   "execution_count": 2,
   "metadata": {},
   "outputs": [
    {
     "data": {
      "text/plain": [
       "110.0"
      ]
     },
     "execution_count": 2,
     "metadata": {},
     "output_type": "execute_result"
    }
   ],
   "source": [
    "# `at` in between timestamps returns the previous value because of the specified fill_method\n",
    "custom_signal.at(\"2020-01-01T00:30:00\", column=\"zone_a\")"
   ]
  },
  {
   "cell_type": "code",
   "execution_count": 3,
   "metadata": {},
   "outputs": [
    {
     "data": {
      "text/plain": [
       "{numpy.datetime64('2020-01-01T01:00:00.000000000'): 870.0,\n",
       " numpy.datetime64('2020-01-01T01:30:00.000000000'): 860.0,\n",
       " numpy.datetime64('2020-01-01T02:00:00.000000000'): 830.0}"
      ]
     },
     "execution_count": 3,
     "metadata": {},
     "output_type": "execute_result"
    }
   ],
   "source": [
    "# The start_time is excluded in the result and the data at the last available request_time before\n",
    "# the start_time  is used (in this case all forecasts made at time 2020-01-01T00:00:00 )\n",
    "custom_signal.forecast(\"2020-01-01T00:30:00\", \"2020-01-01T02:00:00\", column=\"zone_b\")"
   ]
  },
  {
   "cell_type": "code",
   "execution_count": 4,
   "metadata": {},
   "outputs": [
    {
     "data": {
      "text/plain": [
       "{numpy.datetime64('2020-01-01T00:35:00.000000000'): 114.16666666666667,\n",
       " numpy.datetime64('2020-01-01T00:55:00.000000000'): 110.83333333333333,\n",
       " numpy.datetime64('2020-01-01T01:15:00.000000000'): 110.0,\n",
       " numpy.datetime64('2020-01-01T01:35:00.000000000'): 111.66666666666667}"
      ]
     },
     "execution_count": 4,
     "metadata": {},
     "output_type": "execute_result"
    }
   ],
   "source": [
    "# There is the possibility to specify a frequency and a resample_method\n",
    "# The actual value of the specified zone at the start_time is used for linear interpolation\n",
    "custom_signal.forecast(\"2020-01-01T00:15:00\", \"2020-01-01T01:40:00\", column=\"zone_a\", frequency=\"20min\", resample_method=\"linear\")"
   ]
  },
  {
   "cell_type": "markdown",
   "metadata": {},
   "source": [
    "Vessim does also have a couple of datasets that can be directly loaded into a HistoricalSignal with the possibility of shifting and scaling. Please refer to the documentation for more information on the available datasets."
   ]
  },
  {
   "cell_type": "code",
   "execution_count": 5,
   "metadata": {},
   "outputs": [
    {
     "name": "stdout",
     "output_type": "stream",
     "text": [
      "Required data files not present locally. Try downloading...\n",
      "Successfully downloaded and unpacked data files.\n",
      "Data is being shifted by -727 days +23:55:00\n"
     ]
    },
    {
     "data": {
      "text/plain": [
       "1.289502"
      ]
     },
     "execution_count": 5,
     "metadata": {},
     "output_type": "execute_result"
    }
   ],
   "source": [
    "dataset_signal = HistoricalSignal.from_dataset(\"solcast2022_global\", params={\"scale\": 2.0, \"start_time\":\"2020-06-12T00:00:00\"})\n",
    "dataset_signal.at(\"2020-06-27T13:46:53\", column=\"Berlin\")"
   ]
  }
 ],
 "metadata": {
  "kernelspec": {
   "display_name": "Synergy",
   "language": "python",
   "name": "python3"
  },
  "language_info": {
   "codemirror_mode": {
    "name": "ipython",
    "version": 3
   },
   "file_extension": ".py",
   "mimetype": "text/x-python",
   "name": "python",
   "nbconvert_exporter": "python",
   "pygments_lexer": "ipython3",
   "version": "3.12.1"
  }
 },
 "nbformat": 4,
 "nbformat_minor": 2
}
