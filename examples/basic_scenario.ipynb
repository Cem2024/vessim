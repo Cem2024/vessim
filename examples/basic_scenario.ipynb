{
 "cells": [
  {
   "cell_type": "markdown",
   "metadata": {},
   "source": [
    "In this basic scenario, we will be simulating a small data center equipped with\n",
    "photovoltaic (PV) modules and a simple battery system. First, we need to import\n",
    "all necessary vessim modules and datasets, we will be using for this scenario."
   ]
  },
  {
   "cell_type": "code",
   "execution_count": 1,
   "metadata": {},
   "outputs": [],
   "source": [
    "from _data import load_carbon_data, load_solar_data\n",
    "from vessim.actor import ComputingSystem, Generator\n",
    "from vessim.controller import Monitor\n",
    "from vessim.cosim import Environment, Microgrid\n",
    "from vessim.power_meter import MockPowerMeter\n",
    "from vessim.signal import HistoricalSignal\n",
    "from vessim.storage import SimpleBattery\n",
    "\n",
    "# Jupyter async bug fix\n",
    "import nest_asyncio\n",
    "nest_asyncio.apply()"
   ]
  },
  {
   "cell_type": "markdown",
   "metadata": {},
   "source": [
    "The vessim Environment holds all simulation components and is defined at the\n",
    "very start of our scenario. We initialize it with the start date of our\n",
    "simulation. The battery of our small datacenter is also rather small and even\n",
    "with our PV modules will likely not suffice to indefinetly suppply all required\n",
    "power. Our datacenter will, at some point, have to fall back to consuming power\n",
    "from the eletrical grid, which comes with its own carbon footprint. We simulate\n",
    "this behaviour by adding a grid signal with historical carbon data to our\n",
    "Environment."
   ]
  },
  {
   "cell_type": "code",
   "execution_count": 2,
   "metadata": {},
   "outputs": [],
   "source": [
    "environment = Environment(sim_start=\"2020-06-11 00:00:00\")\n",
    "environment.add_grid_signal(\"carbon_intensity\", HistoricalSignal(load_carbon_data()))"
   ]
  },
  {
   "cell_type": "markdown",
   "metadata": {},
   "source": [
    "The battery of our small datacenter is also rather small and even with our PV\n",
    "modules will likely not suffice to indefinetly suppply all required power. Our\n",
    "datacenter will, at some point, have to fall back to consuming power from the\n",
    "eletrical grid, which comes with its own carbon footprint. We simulate this\n",
    "behaviour by adding a grid signal with historical carbon data to our\n",
    "Environment."
   ]
  },
  {
   "cell_type": "code",
   "execution_count": 3,
   "metadata": {},
   "outputs": [],
   "source": [
    "environment.add_grid_signal(\"carbon_intensity\", HistoricalSignal(load_carbon_data()))"
   ]
  },
  {
   "cell_type": "markdown",
   "metadata": {},
   "source": [
    "Central to our vessim Environment and simulation is the Microgrid component. The\n",
    "Microgrid holds and connects all Actors, Controllers and Storage entities.\n",
    "Actors can consume and produce power. This scenario includes two Actors: a\n",
    "computing system with two power consuming nodes, and a generator which produces\n",
    "power based on historic solar data, turning it into a PV module. An excess or\n",
    "deficiency in power can be fed to or drawn from Storage, which in this case is a\n",
    "simple battery. Controller entities can react to the Actors activity and the\n",
    "total power delta that is drawn from or fed to the electrical grid. For now, the\n",
    "only controller is a monitor, which stores all simulation data in a CSV file.\n"
   ]
  },
  {
   "cell_type": "code",
   "execution_count": 3,
   "metadata": {},
   "outputs": [
    {
     "name": "stderr",
     "output_type": "stream",
     "text": [
      "\u001b[32m2024-02-05 12:59:44.217\u001b[0m | \u001b[1mINFO    \u001b[0m | \u001b[36mmosaik.scenario\u001b[0m:\u001b[36mstart\u001b[0m:\u001b[36m280\u001b[0m - \u001b[1mStarting \"Grid\" as \"Grid-0\" ...\u001b[0m\n",
      "\u001b[32m2024-02-05 12:59:44.218\u001b[0m | \u001b[1mINFO    \u001b[0m | \u001b[36mmosaik.scenario\u001b[0m:\u001b[36mstart\u001b[0m:\u001b[36m280\u001b[0m - \u001b[1mStarting \"Actor\" as \"Actor-0\" ...\u001b[0m\n",
      "\u001b[32m2024-02-05 12:59:44.219\u001b[0m | \u001b[1mINFO    \u001b[0m | \u001b[36mmosaik.scenario\u001b[0m:\u001b[36mstart\u001b[0m:\u001b[36m280\u001b[0m - \u001b[1mStarting \"Actor\" as \"Actor-1\" ...\u001b[0m\n",
      "\u001b[32m2024-02-05 12:59:44.219\u001b[0m | \u001b[1mINFO    \u001b[0m | \u001b[36mmosaik.scenario\u001b[0m:\u001b[36mstart\u001b[0m:\u001b[36m280\u001b[0m - \u001b[1mStarting \"Controller\" as \"Controller-0\" ...\u001b[0m\n",
      "\u001b[32m2024-02-05 12:59:44.221\u001b[0m | \u001b[1mINFO    \u001b[0m | \u001b[36mmosaik.scenario\u001b[0m:\u001b[36mrun\u001b[0m:\u001b[36m598\u001b[0m - \u001b[1mStarting simulation.\u001b[0m\n",
      "100%|\u001b[32m██████████\u001b[0m| 172800/172800 [00:01<00:00, 165125.56steps/s]\n",
      "\u001b[32m2024-02-05 12:59:45.270\u001b[0m | \u001b[1mINFO    \u001b[0m | \u001b[36mmosaik.scenario\u001b[0m:\u001b[36mrun\u001b[0m:\u001b[36m646\u001b[0m - \u001b[1mSimulation finished successfully.\u001b[0m\n"
     ]
    }
   ],
   "source": [
    "monitor = Monitor()  # stores simulation result on each step\n",
    "microgrid = Microgrid(\n",
    "    actors=[\n",
    "        ComputingSystem(power_meters=[\n",
    "            MockPowerMeter(p=3),\n",
    "            MockPowerMeter(p=7)\n",
    "        ]),\n",
    "        Generator(signal=HistoricalSignal(load_solar_data(sqm=0.4 * 0.5))),\n",
    "    ],\n",
    "    controllers=[monitor],\n",
    "    storage=SimpleBattery(capacity=100),\n",
    "    zone=\"DE\",\n",
    "    step_size=60,  # global step size (can be overridden by actors or controllers)\n",
    ")\n",
    "environment.add_microgrid(microgrid)\n",
    "\n",
    "environment.run(until=3600 * 24 * 2) # two days\n",
    "monitor.to_csv(\"result.csv\")"
   ]
  },
  {
   "cell_type": "markdown",
   "metadata": {},
   "source": [
    "TODO show nice plot and interpret a little"
   ]
  }
 ],
 "metadata": {
  "kernelspec": {
   "display_name": "venv",
   "language": "python",
   "name": "python3"
  },
  "language_info": {
   "codemirror_mode": {
    "name": "ipython",
    "version": 3
   },
   "file_extension": ".py",
   "mimetype": "text/x-python",
   "name": "python",
   "nbconvert_exporter": "python",
   "pygments_lexer": "ipython3",
   "version": "3.12.1"
  }
 },
 "nbformat": 4,
 "nbformat_minor": 2
}
