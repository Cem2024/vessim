{
 "cells": [
  {
   "cell_type": "markdown",
   "metadata": {},
   "source": [
    "# Controller Scenario\n",
    "\n",
    "In this scenario we want to continue our small datacenter from the basic\n",
    "scenario by adding a Controller entity. This Controller will adjust the power\n",
    "consumption of the computing system's nodes depending on the current power\n",
    "delta. We can easily create a new Controller by subclassing `Controller` from\n",
    "[vessim.controller](https://github.com/dos-group/vessim/blob/main/vessim/controller.py).\n",
    "\n",
    "```python\n",
    "class Controller(ABC):\n",
    "    def __init__(self, step_size: Optional[int] = None):\n",
    "        self.step_size = step_size\n",
    "\n",
    "    @abstractmethod\n",
    "    def start(self, microgrid: Microgrid, clock: Clock) -> None:\n",
    "        \"\"\"Supplies the controller with objects available after simulation start.\n",
    "\n",
    "        Args:\n",
    "            microgrid: The microgrid under control.\n",
    "            clock: The clock of the simulation environment.\n",
    "        \"\"\"\n",
    "\n",
    "    @abstractmethod\n",
    "    def step(self, time: int, p_delta: float, actor_infos: dict) -> None:\n",
    "        \"\"\"Performs a simulation step.\n",
    "\n",
    "        Args:\n",
    "            time: Current simulation time.\n",
    "            p_delta: Current power delta from the microgrid after the storage has been\n",
    "                (de)charged. If negative, this power must be drawn from the public grid.\n",
    "                If positive, the power can be fed to the public grid or must be curtailed.\n",
    "            actor_infos: Contains the last \"info\" dictionaries by all actors in the\n",
    "                microgrid. The info dictionary is defined by the actor and can contain\n",
    "                any information about the actor's state.\n",
    "        \"\"\"\n",
    "\n",
    "    def finalize(self) -> None:\n",
    "        \"\"\"This method can be overridden clean-up after the simulation finished.\"\"\"\n",
    "```"
   ]
  },
  {
   "cell_type": "markdown",
   "metadata": {},
   "source": [
    "The most important aspect of this procedure is the implementation of the\n",
    "`step()` method, which needs to be implemented as dictated by the Controller\n",
    "ABC. The `step()` method is called every simulation step and allows a Controller\n",
    "to act on the power delta from the Microgrid, the current simulation time and\n",
    "the activity of the Actors. The `SimpleLoadBalancingController` only utilizes\n",
    "the power delta and adjusts, depending on this value, the power consumption of\n",
    "the computing system and in turn the power delta in the next simulation step."
   ]
  },
  {
   "cell_type": "code",
   "execution_count": 1,
   "metadata": {},
   "outputs": [],
   "source": [
    "from __future__ import annotations\n",
    "from vessim.actor import ComputingSystem, Generator\n",
    "from vessim.controller import Controller, Monitor\n",
    "from vessim.cosim import Environment, Microgrid\n",
    "from vessim.power_meter import MockPowerMeter\n",
    "from vessim.signal import HistoricalSignal\n",
    "from vessim.storage import SimpleBattery\n",
    "from vessim.util import Clock\n",
    "\n",
    "# Jupyter async bug fix\n",
    "import nest_asyncio\n",
    "nest_asyncio.apply()\n",
    "\n",
    "\n",
    "class SimpleLoadBalancingController(Controller):\n",
    "    def __init__(self, max_load_adjustment: float, power_meters: list[MockPowerMeter]):\n",
    "        super().__init__()\n",
    "        self.max_load_adjustment = max_load_adjustment\n",
    "        self.power_meters = power_meters\n",
    "\n",
    "    def start(\n",
    "        self,\n",
    "        microgrid: Microgrid,\n",
    "        clock: Clock,\n",
    "    ) -> None:\n",
    "        pass\n",
    "\n",
    "    def step(self, time: int, p_delta: float, actor_infos: dict) -> None:\n",
    "        # Calculate the maximum adjustment per MockPowerMeter\n",
    "        adjustment_per_meter = min(abs(p_delta), self.max_load_adjustment) / len(self.power_meters)\n",
    "\n",
    "        # Adjust the power setpoint for each MockPowerMeter\n",
    "        for power_meter in self.power_meters:\n",
    "            current_power = power_meter.measure()\n",
    "            # Determine direction of adjustment\n",
    "            if p_delta < 0:\n",
    "                new_power = current_power + adjustment_per_meter\n",
    "            else:\n",
    "                new_power = max(0, current_power - adjustment_per_meter)\n",
    "            power_meter.set_power(new_power)"
   ]
  },
  {
   "cell_type": "markdown",
   "metadata": {},
   "source": [
    "Now we can add the controller to the basic scenario by instantiating it with a\n",
    "reference to the power meters it can control and the maximum load adjustment for\n",
    "each step. The rest of the scenario remains unchanged."
   ]
  },
  {
   "cell_type": "code",
   "execution_count": 2,
   "metadata": {},
   "outputs": [
    {
     "name": "stderr",
     "output_type": "stream",
     "text": [
      "\u001b[32m2024-02-17 16:56:23.507\u001b[0m | \u001b[1mINFO    \u001b[0m | \u001b[36mmosaik.scenario\u001b[0m:\u001b[36mstart\u001b[0m:\u001b[36m280\u001b[0m - \u001b[1mStarting \"Grid\" as \"Grid-0\" ...\u001b[0m\n",
      "\u001b[32m2024-02-17 16:56:23.508\u001b[0m | \u001b[1mINFO    \u001b[0m | \u001b[36mmosaik.scenario\u001b[0m:\u001b[36mstart\u001b[0m:\u001b[36m280\u001b[0m - \u001b[1mStarting \"Actor\" as \"Actor-0\" ...\u001b[0m\n",
      "\u001b[32m2024-02-17 16:56:23.508\u001b[0m | \u001b[1mINFO    \u001b[0m | \u001b[36mmosaik.scenario\u001b[0m:\u001b[36mstart\u001b[0m:\u001b[36m280\u001b[0m - \u001b[1mStarting \"Actor\" as \"Actor-1\" ...\u001b[0m\n",
      "\u001b[32m2024-02-17 16:56:23.509\u001b[0m | \u001b[1mINFO    \u001b[0m | \u001b[36mmosaik.scenario\u001b[0m:\u001b[36mstart\u001b[0m:\u001b[36m280\u001b[0m - \u001b[1mStarting \"Controller\" as \"Controller-0\" ...\u001b[0m\n",
      "\u001b[32m2024-02-17 16:56:23.509\u001b[0m | \u001b[1mINFO    \u001b[0m | \u001b[36mmosaik.scenario\u001b[0m:\u001b[36mstart\u001b[0m:\u001b[36m280\u001b[0m - \u001b[1mStarting \"Controller\" as \"Controller-1\" ...\u001b[0m\n",
      "\u001b[32m2024-02-17 16:56:23.511\u001b[0m | \u001b[1mINFO    \u001b[0m | \u001b[36mmosaik.scenario\u001b[0m:\u001b[36mrun\u001b[0m:\u001b[36m598\u001b[0m - \u001b[1mStarting simulation.\u001b[0m\n",
      "100%|\u001b[32m██████████\u001b[0m| 86400/86400 [00:00<00:00, 135641.36steps/s]\n",
      "\u001b[32m2024-02-17 16:56:24.151\u001b[0m | \u001b[1mINFO    \u001b[0m | \u001b[36mmosaik.scenario\u001b[0m:\u001b[36mrun\u001b[0m:\u001b[36m646\u001b[0m - \u001b[1mSimulation finished successfully.\u001b[0m\n"
     ]
    }
   ],
   "source": [
    "environment = Environment(sim_start=\"2020-06-11 00:00:00\")\n",
    "\n",
    "power_meters: list = [\n",
    "    MockPowerMeter(p=3),\n",
    "    MockPowerMeter(p=7),\n",
    "]\n",
    "monitor = Monitor()  # Stores simulation result on each step\n",
    "load_balancer = SimpleLoadBalancingController(max_load_adjustment=2, power_meters=power_meters)\n",
    "environment.add_microgrid(\n",
    "    actors=[\n",
    "        ComputingSystem(power_meters=power_meters),\n",
    "        Generator(signal=HistoricalSignal.from_dataset(\"solcast2022_global\"), column=\"Berlin\"),\n",
    "    ],\n",
    "    storage=SimpleBattery(capacity=1000, charge_level=500),\n",
    "    controllers=[monitor, load_balancer],\n",
    "    step_size=60,  # Global step size (can be overridden by actors or controllers)\n",
    ")\n",
    "\n",
    "environment.run(until=24 * 3600) # 24h\n",
    "monitor.to_csv(\"result_csv\")"
   ]
  }
 ],
 "metadata": {
  "kernelspec": {
   "display_name": "venv",
   "language": "python",
   "name": "python3"
  },
  "language_info": {
   "codemirror_mode": {
    "name": "ipython",
    "version": 3
   },
   "file_extension": ".py",
   "mimetype": "text/x-python",
   "name": "python",
   "nbconvert_exporter": "python",
   "pygments_lexer": "ipython3",
   "version": "3.12.1"
  }
 },
 "nbformat": 4,
 "nbformat_minor": 2
}
