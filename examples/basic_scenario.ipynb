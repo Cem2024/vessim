{
 "cells": [
  {
   "cell_type": "markdown",
   "metadata": {},
   "source": [
    "# Basic Scenario\n",
    "\n",
    "In this basic scenario, we will be simulating a small data center equipped with\n",
    "photovoltaic (PV) modules and a simple battery system. First, we need to import\n",
    "all necessary vessim modules and datasets, we will be using for this scenario."
   ]
  },
  {
   "cell_type": "code",
   "execution_count": 1,
   "metadata": {},
   "outputs": [],
   "source": [
    "from vessim.actor import ComputingSystem, Generator\n",
    "from vessim.controller import Monitor\n",
    "from vessim.cosim import Environment\n",
    "from vessim.power_meter import MockPowerMeter\n",
    "from vessim.signal import HistoricalSignal\n",
    "from vessim.storage import SimpleBattery\n",
    "\n",
    "# Jupyter async bug fix\n",
    "import nest_asyncio\n",
    "nest_asyncio.apply()"
   ]
  },
  {
   "cell_type": "markdown",
   "metadata": {},
   "source": [
    "The vessim Environment holds all simulation components and is defined at the\n",
    "very start of our scenario. We initialize it with the start date of our\n",
    "simulation. "
   ]
  },
  {
   "cell_type": "code",
   "execution_count": 2,
   "metadata": {},
   "outputs": [],
   "source": [
    "environment = Environment(sim_start=\"2020-06-11 00:00:00\")"
   ]
  },
  {
   "cell_type": "markdown",
   "metadata": {},
   "source": [
    "Central to our vessim Environment is the Microgrid component. The Microgrid\n",
    "holds and connects all Actors, Controllers and Storage entities. Actors can\n",
    "consume and produce power. An excess or deficiency in power can be fed to or\n",
    "drawn from Storage. Controller entities can react to the Actors activity and the\n",
    "total power delta that is drawn from or fed to the electrical grid. For now, the\n",
    "only controller is a monitor, which stores all simulation data in a CSV file."
   ]
  },
  {
   "cell_type": "code",
   "execution_count": 3,
   "metadata": {},
   "outputs": [
    {
     "name": "stdout",
     "output_type": "stream",
     "text": [
      "Required data files not present locally. Try downloading...\n"
     ]
    },
    {
     "name": "stderr",
     "output_type": "stream",
     "text": [
      "\u001b[32m2024-02-16 16:23:59.861\u001b[0m | \u001b[1mINFO    \u001b[0m | \u001b[36mmosaik.scenario\u001b[0m:\u001b[36mstart\u001b[0m:\u001b[36m280\u001b[0m - \u001b[1mStarting \"Grid\" as \"Grid-0\" ...\u001b[0m\n",
      "\u001b[32m2024-02-16 16:23:59.862\u001b[0m | \u001b[1mINFO    \u001b[0m | \u001b[36mmosaik.scenario\u001b[0m:\u001b[36mstart\u001b[0m:\u001b[36m280\u001b[0m - \u001b[1mStarting \"Actor\" as \"Actor-0\" ...\u001b[0m\n",
      "\u001b[32m2024-02-16 16:23:59.863\u001b[0m | \u001b[1mINFO    \u001b[0m | \u001b[36mmosaik.scenario\u001b[0m:\u001b[36mstart\u001b[0m:\u001b[36m280\u001b[0m - \u001b[1mStarting \"Actor\" as \"Actor-1\" ...\u001b[0m\n",
      "\u001b[32m2024-02-16 16:23:59.863\u001b[0m | \u001b[1mINFO    \u001b[0m | \u001b[36mmosaik.scenario\u001b[0m:\u001b[36mstart\u001b[0m:\u001b[36m280\u001b[0m - \u001b[1mStarting \"Controller\" as \"Controller-0\" ...\u001b[0m\n",
      "\u001b[32m2024-02-16 16:23:59.865\u001b[0m | \u001b[1mINFO    \u001b[0m | \u001b[36mmosaik.scenario\u001b[0m:\u001b[36mrun\u001b[0m:\u001b[36m598\u001b[0m - \u001b[1mStarting simulation.\u001b[0m\n"
     ]
    },
    {
     "name": "stdout",
     "output_type": "stream",
     "text": [
      "Successfully downloaded and unpacked data files.\n"
     ]
    },
    {
     "name": "stderr",
     "output_type": "stream",
     "text": [
      "  0%|\u001b[32m          \u001b[0m| 16/86400 [00:00<00:06, 13443.28steps/s]\n"
     ]
    },
    {
     "ename": "ValueError",
     "evalue": "Column needs to be specified.",
     "output_type": "error",
     "traceback": [
      "\u001b[0;31m---------------------------------------------------------------------------\u001b[0m",
      "\u001b[0;31mValueError\u001b[0m                                Traceback (most recent call last)",
      "Cell \u001b[0;32mIn[3], line 12\u001b[0m\n\u001b[1;32m      1\u001b[0m monitor \u001b[38;5;241m=\u001b[39m Monitor()  \u001b[38;5;66;03m# stores simulation result on each step\u001b[39;00m\n\u001b[1;32m      2\u001b[0m environment\u001b[38;5;241m.\u001b[39madd_microgrid(\n\u001b[1;32m      3\u001b[0m     actors\u001b[38;5;241m=\u001b[39m[\n\u001b[1;32m      4\u001b[0m         ComputingSystem(power_meters\u001b[38;5;241m=\u001b[39m[MockPowerMeter(p\u001b[38;5;241m=\u001b[39m\u001b[38;5;241m3\u001b[39m), MockPowerMeter(p\u001b[38;5;241m=\u001b[39m\u001b[38;5;241m7\u001b[39m)]),\n\u001b[0;32m   (...)\u001b[0m\n\u001b[1;32m      9\u001b[0m     step_size\u001b[38;5;241m=\u001b[39m\u001b[38;5;241m60\u001b[39m,  \u001b[38;5;66;03m# global step size (can be overridden by actors or controllers)\u001b[39;00m\n\u001b[1;32m     10\u001b[0m )\n\u001b[0;32m---> 12\u001b[0m \u001b[43menvironment\u001b[49m\u001b[38;5;241;43m.\u001b[39;49m\u001b[43mrun\u001b[49m\u001b[43m(\u001b[49m\u001b[43muntil\u001b[49m\u001b[38;5;241;43m=\u001b[39;49m\u001b[38;5;241;43m24\u001b[39;49m\u001b[43m \u001b[49m\u001b[38;5;241;43m*\u001b[39;49m\u001b[43m \u001b[49m\u001b[38;5;241;43m3600\u001b[39;49m\u001b[43m)\u001b[49m \u001b[38;5;66;03m# 24h\u001b[39;00m\n\u001b[1;32m     13\u001b[0m monitor\u001b[38;5;241m.\u001b[39mto_csv(\u001b[38;5;124m\"\u001b[39m\u001b[38;5;124mresult.csv\u001b[39m\u001b[38;5;124m\"\u001b[39m)\n",
      "File \u001b[0;32m~/Projects/DOS/vessim/venv/lib64/python3.12/site-packages/vessim/cosim.py:117\u001b[0m, in \u001b[0;36mEnvironment.run\u001b[0;34m(self, until, rt_factor, print_progress)\u001b[0m\n\u001b[1;32m    115\u001b[0m     until \u001b[38;5;241m=\u001b[39m \u001b[38;5;28mfloat\u001b[39m(\u001b[38;5;124m\"\u001b[39m\u001b[38;5;124minf\u001b[39m\u001b[38;5;124m\"\u001b[39m) \u001b[38;5;66;03m# type: ignore\u001b[39;00m\n\u001b[1;32m    116\u001b[0m \u001b[38;5;28;01mtry\u001b[39;00m:\n\u001b[0;32m--> 117\u001b[0m     \u001b[38;5;28;43mself\u001b[39;49m\u001b[38;5;241;43m.\u001b[39;49m\u001b[43mworld\u001b[49m\u001b[38;5;241;43m.\u001b[39;49m\u001b[43mrun\u001b[49m\u001b[43m(\u001b[49m\n\u001b[1;32m    118\u001b[0m \u001b[43m        \u001b[49m\u001b[43muntil\u001b[49m\u001b[38;5;241;43m=\u001b[39;49m\u001b[43muntil\u001b[49m\u001b[43m,\u001b[49m\u001b[43m \u001b[49m\u001b[43mrt_factor\u001b[49m\u001b[38;5;241;43m=\u001b[39;49m\u001b[43mrt_factor\u001b[49m\u001b[43m,\u001b[49m\u001b[43m \u001b[49m\u001b[43mprint_progress\u001b[49m\u001b[38;5;241;43m=\u001b[39;49m\u001b[43mprint_progress\u001b[49m\n\u001b[1;32m    119\u001b[0m \u001b[43m    \u001b[49m\u001b[43m)\u001b[49m\n\u001b[1;32m    120\u001b[0m \u001b[38;5;28;01mexcept\u001b[39;00m \u001b[38;5;167;01mException\u001b[39;00m \u001b[38;5;28;01mas\u001b[39;00m e:\n\u001b[1;32m    121\u001b[0m     \u001b[38;5;28;01mif\u001b[39;00m \u001b[38;5;28mstr\u001b[39m(e)\u001b[38;5;241m.\u001b[39mstartswith(\u001b[38;5;124m\"\u001b[39m\u001b[38;5;124mSimulation too slow for real-time factor\u001b[39m\u001b[38;5;124m\"\u001b[39m):\n",
      "File \u001b[0;32m~/Projects/DOS/vessim/venv/lib64/python3.12/site-packages/mosaik/scenario.py:632\u001b[0m, in \u001b[0;36mWorld.run\u001b[0;34m(self, until, rt_factor, rt_strict, print_progress, lazy_stepping)\u001b[0m\n\u001b[1;32m    630\u001b[0m success \u001b[38;5;241m=\u001b[39m \u001b[38;5;28;01mFalse\u001b[39;00m\n\u001b[1;32m    631\u001b[0m \u001b[38;5;28;01mtry\u001b[39;00m:\n\u001b[0;32m--> 632\u001b[0m     \u001b[38;5;28;43mself\u001b[39;49m\u001b[38;5;241;43m.\u001b[39;49m\u001b[43mloop\u001b[49m\u001b[38;5;241;43m.\u001b[39;49m\u001b[43mrun_until_complete\u001b[49m\u001b[43m(\u001b[49m\u001b[43mscheduler\u001b[49m\u001b[38;5;241;43m.\u001b[39;49m\u001b[43mrun\u001b[49m\u001b[43m(\u001b[49m\n\u001b[1;32m    633\u001b[0m \u001b[43m        \u001b[49m\u001b[38;5;28;43mself\u001b[39;49m\u001b[43m,\u001b[49m\u001b[43m \u001b[49m\u001b[43muntil\u001b[49m\u001b[43m,\u001b[49m\u001b[43m \u001b[49m\u001b[43mrt_factor\u001b[49m\u001b[43m,\u001b[49m\u001b[43m \u001b[49m\u001b[43mrt_strict\u001b[49m\u001b[43m,\u001b[49m\u001b[43m \u001b[49m\u001b[43mlazy_stepping\u001b[49m\n\u001b[1;32m    634\u001b[0m \u001b[43m    \u001b[49m\u001b[43m)\u001b[49m\u001b[43m)\u001b[49m\n\u001b[1;32m    635\u001b[0m     success \u001b[38;5;241m=\u001b[39m \u001b[38;5;28;01mTrue\u001b[39;00m\n\u001b[1;32m    636\u001b[0m \u001b[38;5;28;01mexcept\u001b[39;00m \u001b[38;5;167;01mKeyboardInterrupt\u001b[39;00m:\n",
      "File \u001b[0;32m~/Projects/DOS/vessim/venv/lib64/python3.12/site-packages/nest_asyncio.py:99\u001b[0m, in \u001b[0;36m_patch_loop.<locals>.run_until_complete\u001b[0;34m(self, future)\u001b[0m\n\u001b[1;32m     96\u001b[0m \u001b[38;5;28;01mif\u001b[39;00m \u001b[38;5;129;01mnot\u001b[39;00m f\u001b[38;5;241m.\u001b[39mdone():\n\u001b[1;32m     97\u001b[0m     \u001b[38;5;28;01mraise\u001b[39;00m \u001b[38;5;167;01mRuntimeError\u001b[39;00m(\n\u001b[1;32m     98\u001b[0m         \u001b[38;5;124m'\u001b[39m\u001b[38;5;124mEvent loop stopped before Future completed.\u001b[39m\u001b[38;5;124m'\u001b[39m)\n\u001b[0;32m---> 99\u001b[0m \u001b[38;5;28;01mreturn\u001b[39;00m \u001b[43mf\u001b[49m\u001b[38;5;241;43m.\u001b[39;49m\u001b[43mresult\u001b[49m\u001b[43m(\u001b[49m\u001b[43m)\u001b[49m\n",
      "File \u001b[0;32m/usr/lib64/python3.12/asyncio/futures.py:203\u001b[0m, in \u001b[0;36mFuture.result\u001b[0;34m(self)\u001b[0m\n\u001b[1;32m    201\u001b[0m \u001b[38;5;28mself\u001b[39m\u001b[38;5;241m.\u001b[39m__log_traceback \u001b[38;5;241m=\u001b[39m \u001b[38;5;28;01mFalse\u001b[39;00m\n\u001b[1;32m    202\u001b[0m \u001b[38;5;28;01mif\u001b[39;00m \u001b[38;5;28mself\u001b[39m\u001b[38;5;241m.\u001b[39m_exception \u001b[38;5;129;01mis\u001b[39;00m \u001b[38;5;129;01mnot\u001b[39;00m \u001b[38;5;28;01mNone\u001b[39;00m:\n\u001b[0;32m--> 203\u001b[0m     \u001b[38;5;28;01mraise\u001b[39;00m \u001b[38;5;28mself\u001b[39m\u001b[38;5;241m.\u001b[39m_exception\u001b[38;5;241m.\u001b[39mwith_traceback(\u001b[38;5;28mself\u001b[39m\u001b[38;5;241m.\u001b[39m_exception_tb)\n\u001b[1;32m    204\u001b[0m \u001b[38;5;28;01mreturn\u001b[39;00m \u001b[38;5;28mself\u001b[39m\u001b[38;5;241m.\u001b[39m_result\n",
      "File \u001b[0;32m/usr/lib64/python3.12/asyncio/tasks.py:316\u001b[0m, in \u001b[0;36mTask.__step_run_and_handle_result\u001b[0;34m(***failed resolving arguments***)\u001b[0m\n\u001b[1;32m    314\u001b[0m         result \u001b[38;5;241m=\u001b[39m coro\u001b[38;5;241m.\u001b[39msend(\u001b[38;5;28;01mNone\u001b[39;00m)\n\u001b[1;32m    315\u001b[0m     \u001b[38;5;28;01melse\u001b[39;00m:\n\u001b[0;32m--> 316\u001b[0m         result \u001b[38;5;241m=\u001b[39m \u001b[43mcoro\u001b[49m\u001b[38;5;241;43m.\u001b[39;49m\u001b[43mthrow\u001b[49m\u001b[43m(\u001b[49m\u001b[43mexc\u001b[49m\u001b[43m)\u001b[49m\n\u001b[1;32m    317\u001b[0m \u001b[38;5;28;01mexcept\u001b[39;00m \u001b[38;5;167;01mStopIteration\u001b[39;00m \u001b[38;5;28;01mas\u001b[39;00m exc:\n\u001b[1;32m    318\u001b[0m     \u001b[38;5;28;01mif\u001b[39;00m \u001b[38;5;28mself\u001b[39m\u001b[38;5;241m.\u001b[39m_must_cancel:\n\u001b[1;32m    319\u001b[0m         \u001b[38;5;66;03m# Task is cancelled right before coro stops.\u001b[39;00m\n",
      "File \u001b[0;32m~/Projects/DOS/vessim/venv/lib64/python3.12/site-packages/mosaik/scheduler.py:70\u001b[0m, in \u001b[0;36mrun\u001b[0;34m(world, until, rt_factor, rt_strict, lazy_stepping)\u001b[0m\n\u001b[1;32m     67\u001b[0m     processes\u001b[38;5;241m.\u001b[39mappend(process)\n\u001b[1;32m     69\u001b[0m \u001b[38;5;66;03m# Wait for all processes to be done\u001b[39;00m\n\u001b[0;32m---> 70\u001b[0m \u001b[38;5;28;01mawait\u001b[39;00m asyncio\u001b[38;5;241m.\u001b[39mgather(\u001b[38;5;241m*\u001b[39mprocesses)\n",
      "File \u001b[0;32m/usr/lib64/python3.12/asyncio/tasks.py:385\u001b[0m, in \u001b[0;36mTask.__wakeup\u001b[0;34m(self, future)\u001b[0m\n\u001b[1;32m    383\u001b[0m \u001b[38;5;28;01mdef\u001b[39;00m \u001b[38;5;21m__wakeup\u001b[39m(\u001b[38;5;28mself\u001b[39m, future):\n\u001b[1;32m    384\u001b[0m     \u001b[38;5;28;01mtry\u001b[39;00m:\n\u001b[0;32m--> 385\u001b[0m         \u001b[43mfuture\u001b[49m\u001b[38;5;241;43m.\u001b[39;49m\u001b[43mresult\u001b[49m\u001b[43m(\u001b[49m\u001b[43m)\u001b[49m\n\u001b[1;32m    386\u001b[0m     \u001b[38;5;28;01mexcept\u001b[39;00m \u001b[38;5;167;01mBaseException\u001b[39;00m \u001b[38;5;28;01mas\u001b[39;00m exc:\n\u001b[1;32m    387\u001b[0m         \u001b[38;5;66;03m# This may also be a cancellation.\u001b[39;00m\n\u001b[1;32m    388\u001b[0m         \u001b[38;5;28mself\u001b[39m\u001b[38;5;241m.\u001b[39m__step(exc)\n",
      "File \u001b[0;32m/usr/lib64/python3.12/asyncio/tasks.py:314\u001b[0m, in \u001b[0;36mTask.__step_run_and_handle_result\u001b[0;34m(***failed resolving arguments***)\u001b[0m\n\u001b[1;32m    310\u001b[0m \u001b[38;5;28;01mtry\u001b[39;00m:\n\u001b[1;32m    311\u001b[0m     \u001b[38;5;28;01mif\u001b[39;00m exc \u001b[38;5;129;01mis\u001b[39;00m \u001b[38;5;28;01mNone\u001b[39;00m:\n\u001b[1;32m    312\u001b[0m         \u001b[38;5;66;03m# We use the `send` method directly, because coroutines\u001b[39;00m\n\u001b[1;32m    313\u001b[0m         \u001b[38;5;66;03m# don't have `__iter__` and `__next__` methods.\u001b[39;00m\n\u001b[0;32m--> 314\u001b[0m         result \u001b[38;5;241m=\u001b[39m \u001b[43mcoro\u001b[49m\u001b[38;5;241;43m.\u001b[39;49m\u001b[43msend\u001b[49m\u001b[43m(\u001b[49m\u001b[38;5;28;43;01mNone\u001b[39;49;00m\u001b[43m)\u001b[49m\n\u001b[1;32m    315\u001b[0m     \u001b[38;5;28;01melse\u001b[39;00m:\n\u001b[1;32m    316\u001b[0m         result \u001b[38;5;241m=\u001b[39m coro\u001b[38;5;241m.\u001b[39mthrow(exc)\n",
      "File \u001b[0;32m~/Projects/DOS/vessim/venv/lib64/python3.12/site-packages/mosaik/scheduler.py:118\u001b[0m, in \u001b[0;36msim_process\u001b[0;34m(world, sim, until, rt_factor, rt_strict, lazy_stepping)\u001b[0m\n\u001b[1;32m    116\u001b[0m input_data \u001b[38;5;241m=\u001b[39m get_input_data(world, sim)\n\u001b[1;32m    117\u001b[0m max_advance \u001b[38;5;241m=\u001b[39m get_max_advance(world, sim, until)\n\u001b[0;32m--> 118\u001b[0m progress \u001b[38;5;241m=\u001b[39m \u001b[38;5;28;01mawait\u001b[39;00m step(world, sim, input_data, max_advance)\n\u001b[1;32m    119\u001b[0m rt_check(rt_factor, rt_start, rt_strict, sim)\n\u001b[1;32m    120\u001b[0m progress \u001b[38;5;241m=\u001b[39m \u001b[38;5;28;01mawait\u001b[39;00m get_outputs(world, sim, progress)\n",
      "File \u001b[0;32m~/Projects/DOS/vessim/venv/lib64/python3.12/site-packages/mosaik/scheduler.py:450\u001b[0m, in \u001b[0;36mstep\u001b[0;34m(world, sim, inputs, max_advance)\u001b[0m\n\u001b[1;32m    448\u001b[0m sim\u001b[38;5;241m.\u001b[39mtqdm\u001b[38;5;241m.\u001b[39mset_postfix_str(\u001b[38;5;124m'\u001b[39m\u001b[38;5;124mstepping\u001b[39m\u001b[38;5;124m'\u001b[39m)\n\u001b[1;32m    449\u001b[0m sim\u001b[38;5;241m.\u001b[39mis_in_step \u001b[38;5;241m=\u001b[39m \u001b[38;5;28;01mTrue\u001b[39;00m\n\u001b[0;32m--> 450\u001b[0m next_step \u001b[38;5;241m=\u001b[39m \u001b[38;5;28;01mawait\u001b[39;00m sim\u001b[38;5;241m.\u001b[39mproxy\u001b[38;5;241m.\u001b[39mstep(current_step, inputs, max_advance)\n\u001b[1;32m    451\u001b[0m sim\u001b[38;5;241m.\u001b[39mis_in_step \u001b[38;5;241m=\u001b[39m \u001b[38;5;28;01mFalse\u001b[39;00m\n\u001b[1;32m    453\u001b[0m \u001b[38;5;28;01mif\u001b[39;00m next_step \u001b[38;5;129;01mis\u001b[39;00m \u001b[38;5;129;01mnot\u001b[39;00m \u001b[38;5;28;01mNone\u001b[39;00m:\n",
      "File \u001b[0;32m~/Projects/DOS/vessim/venv/lib64/python3.12/site-packages/mosaik/proxies.py:107\u001b[0m, in \u001b[0;36mAPIProxy.step\u001b[0;34m(self, time, inputs, max_advance)\u001b[0m\n\u001b[1;32m    100\u001b[0m \u001b[38;5;28;01masync\u001b[39;00m \u001b[38;5;28;01mdef\u001b[39;00m \u001b[38;5;21mstep\u001b[39m(\n\u001b[1;32m    101\u001b[0m     \u001b[38;5;28mself\u001b[39m,\n\u001b[1;32m    102\u001b[0m     time: \u001b[38;5;28mint\u001b[39m,\n\u001b[1;32m    103\u001b[0m     inputs: InputData,\n\u001b[1;32m    104\u001b[0m     max_advance: \u001b[38;5;28mint\u001b[39m\n\u001b[1;32m    105\u001b[0m ) \u001b[38;5;241m-\u001b[39m\u001b[38;5;241m>\u001b[39m Optional[\u001b[38;5;28mint\u001b[39m]:\n\u001b[1;32m    106\u001b[0m     \u001b[38;5;28;01mif\u001b[39;00m \u001b[38;5;28mself\u001b[39m\u001b[38;5;241m.\u001b[39m_api_compliant \u001b[38;5;129;01mand\u001b[39;00m \u001b[38;5;129;01mnot\u001b[39;00m \u001b[38;5;28mself\u001b[39m\u001b[38;5;241m.\u001b[39m_old_api:\n\u001b[0;32m--> 107\u001b[0m         \u001b[38;5;28;01mreturn\u001b[39;00m \u001b[38;5;28;01mawait\u001b[39;00m \u001b[38;5;28mself\u001b[39m\u001b[38;5;241m.\u001b[39m_send(\u001b[38;5;124m\"\u001b[39m\u001b[38;5;124mstep\u001b[39m\u001b[38;5;124m\"\u001b[39m, (time, inputs, max_advance), {})\n\u001b[1;32m    108\u001b[0m     \u001b[38;5;28;01melse\u001b[39;00m:\n\u001b[1;32m    109\u001b[0m         \u001b[38;5;28;01mreturn\u001b[39;00m \u001b[38;5;28;01mawait\u001b[39;00m \u001b[38;5;28mself\u001b[39m\u001b[38;5;241m.\u001b[39m_send(\u001b[38;5;124m\"\u001b[39m\u001b[38;5;124mstep\u001b[39m\u001b[38;5;124m\"\u001b[39m, (time, inputs), {})\n",
      "File \u001b[0;32m~/Projects/DOS/vessim/venv/lib64/python3.12/site-packages/mosaik/proxies.py:153\u001b[0m, in \u001b[0;36mLocalProxy._send\u001b[0;34m(self, func_name, args, kwargs)\u001b[0m\n\u001b[1;32m    151\u001b[0m         \u001b[38;5;28;01mreturn\u001b[39;00m stop\u001b[38;5;241m.\u001b[39mvalue\n\u001b[1;32m    152\u001b[0m \u001b[38;5;28;01melse\u001b[39;00m:\n\u001b[0;32m--> 153\u001b[0m     \u001b[38;5;28;01mreturn\u001b[39;00m \u001b[43mfunc\u001b[49m\u001b[43m(\u001b[49m\u001b[38;5;241;43m*\u001b[39;49m\u001b[43margs\u001b[49m\u001b[43m,\u001b[49m\u001b[43m \u001b[49m\u001b[38;5;241;43m*\u001b[39;49m\u001b[38;5;241;43m*\u001b[39;49m\u001b[43mkwargs\u001b[49m\u001b[43m)\u001b[49m\n",
      "File \u001b[0;32m~/Projects/DOS/vessim/venv/lib64/python3.12/site-packages/vessim/actor.py:137\u001b[0m, in \u001b[0;36mActorSim.step\u001b[0;34m(self, time, inputs, max_advance)\u001b[0m\n\u001b[1;32m    135\u001b[0m now \u001b[38;5;241m=\u001b[39m \u001b[38;5;28mself\u001b[39m\u001b[38;5;241m.\u001b[39mclock\u001b[38;5;241m.\u001b[39mto_datetime(time)\n\u001b[1;32m    136\u001b[0m \u001b[38;5;28;01massert\u001b[39;00m \u001b[38;5;28mself\u001b[39m\u001b[38;5;241m.\u001b[39mactor \u001b[38;5;129;01mis\u001b[39;00m \u001b[38;5;129;01mnot\u001b[39;00m \u001b[38;5;28;01mNone\u001b[39;00m\n\u001b[0;32m--> 137\u001b[0m \u001b[38;5;28mself\u001b[39m\u001b[38;5;241m.\u001b[39mp \u001b[38;5;241m=\u001b[39m \u001b[38;5;28;43mself\u001b[39;49m\u001b[38;5;241;43m.\u001b[39;49m\u001b[43mactor\u001b[49m\u001b[38;5;241;43m.\u001b[39;49m\u001b[43mp\u001b[49m\u001b[43m(\u001b[49m\u001b[43mnow\u001b[49m\u001b[43m)\u001b[49m\n\u001b[1;32m    138\u001b[0m \u001b[38;5;28mself\u001b[39m\u001b[38;5;241m.\u001b[39mstate \u001b[38;5;241m=\u001b[39m \u001b[38;5;28mself\u001b[39m\u001b[38;5;241m.\u001b[39mactor\u001b[38;5;241m.\u001b[39mstate(now)\n\u001b[1;32m    139\u001b[0m \u001b[38;5;28;01mreturn\u001b[39;00m time \u001b[38;5;241m+\u001b[39m \u001b[38;5;28mself\u001b[39m\u001b[38;5;241m.\u001b[39mstep_size\n",
      "File \u001b[0;32m~/Projects/DOS/vessim/venv/lib64/python3.12/site-packages/vessim/actor.py:91\u001b[0m, in \u001b[0;36mGenerator.p\u001b[0;34m(self, now)\u001b[0m\n\u001b[1;32m     90\u001b[0m \u001b[38;5;28;01mdef\u001b[39;00m \u001b[38;5;21mp\u001b[39m(\u001b[38;5;28mself\u001b[39m, now: datetime) \u001b[38;5;241m-\u001b[39m\u001b[38;5;241m>\u001b[39m \u001b[38;5;28mfloat\u001b[39m:\n\u001b[0;32m---> 91\u001b[0m     data_point \u001b[38;5;241m=\u001b[39m \u001b[38;5;28;43mself\u001b[39;49m\u001b[38;5;241;43m.\u001b[39;49m\u001b[43msignal\u001b[49m\u001b[38;5;241;43m.\u001b[39;49m\u001b[43mat\u001b[49m\u001b[43m(\u001b[49m\u001b[43mnow\u001b[49m\u001b[43m,\u001b[49m\u001b[43m \u001b[49m\u001b[38;5;241;43m*\u001b[39;49m\u001b[38;5;241;43m*\u001b[39;49m\u001b[38;5;28;43mself\u001b[39;49m\u001b[38;5;241;43m.\u001b[39;49m\u001b[43mkwargs\u001b[49m\u001b[43m)\u001b[49m\n\u001b[1;32m     92\u001b[0m     \u001b[38;5;28;01massert\u001b[39;00m data_point \u001b[38;5;129;01mis\u001b[39;00m \u001b[38;5;129;01mnot\u001b[39;00m \u001b[38;5;28;01mNone\u001b[39;00m\n\u001b[1;32m     93\u001b[0m     \u001b[38;5;28;01mreturn\u001b[39;00m data_point\n",
      "File \u001b[0;32m~/Projects/DOS/vessim/venv/lib64/python3.12/site-packages/vessim/signal.py:72\u001b[0m, in \u001b[0;36mHistoricalSignal.at\u001b[0;34m(self, dt, column, **kwargs)\u001b[0m\n\u001b[1;32m     70\u001b[0m \u001b[38;5;28;01mdef\u001b[39;00m \u001b[38;5;21mat\u001b[39m(\u001b[38;5;28mself\u001b[39m, dt: DatetimeLike, column: Optional[\u001b[38;5;28mstr\u001b[39m] \u001b[38;5;241m=\u001b[39m \u001b[38;5;28;01mNone\u001b[39;00m, \u001b[38;5;241m*\u001b[39m\u001b[38;5;241m*\u001b[39mkwargs):\n\u001b[1;32m     71\u001b[0m     dt \u001b[38;5;241m=\u001b[39m pd\u001b[38;5;241m.\u001b[39mto_datetime(dt)\n\u001b[0;32m---> 72\u001b[0m     column_data \u001b[38;5;241m=\u001b[39m \u001b[43m_get_column_data\u001b[49m\u001b[43m(\u001b[49m\u001b[38;5;28;43mself\u001b[39;49m\u001b[38;5;241;43m.\u001b[39;49m\u001b[43m_actual\u001b[49m\u001b[43m,\u001b[49m\u001b[43m \u001b[49m\u001b[43mcolumn\u001b[49m\u001b[43m)\u001b[49m\n\u001b[1;32m     74\u001b[0m     \u001b[38;5;66;03m# Mypy somehow has trouble with indexing in a dataframe with DatetimeIndex\u001b[39;00m\n\u001b[1;32m     75\u001b[0m     \u001b[38;5;66;03m# <https://github.com/python/mypy/issues/2410>\u001b[39;00m\n\u001b[1;32m     76\u001b[0m     \u001b[38;5;28;01mif\u001b[39;00m \u001b[38;5;28mself\u001b[39m\u001b[38;5;241m.\u001b[39m_fill_method \u001b[38;5;241m==\u001b[39m \u001b[38;5;124m\"\u001b[39m\u001b[38;5;124mffill\u001b[39m\u001b[38;5;124m\"\u001b[39m:\n\u001b[1;32m     77\u001b[0m         \u001b[38;5;66;03m# searchsorted with 'side' specified in sorted df always returns an int\u001b[39;00m\n",
      "File \u001b[0;32m~/Projects/DOS/vessim/venv/lib64/python3.12/site-packages/vessim/signal.py:185\u001b[0m, in \u001b[0;36m_get_column_data\u001b[0;34m(data, column)\u001b[0m\n\u001b[1;32m    183\u001b[0m         \u001b[38;5;28;01mreturn\u001b[39;00m \u001b[38;5;28mnext\u001b[39m(\u001b[38;5;28miter\u001b[39m(data\u001b[38;5;241m.\u001b[39mvalues()))\n\u001b[1;32m    184\u001b[0m     \u001b[38;5;28;01melse\u001b[39;00m:\n\u001b[0;32m--> 185\u001b[0m         \u001b[38;5;28;01mraise\u001b[39;00m \u001b[38;5;167;01mValueError\u001b[39;00m(\u001b[38;5;124m\"\u001b[39m\u001b[38;5;124mColumn needs to be specified.\u001b[39m\u001b[38;5;124m\"\u001b[39m)\n\u001b[1;32m    186\u001b[0m \u001b[38;5;28;01mtry\u001b[39;00m:\n\u001b[1;32m    187\u001b[0m     \u001b[38;5;28;01mreturn\u001b[39;00m data[column]\n",
      "\u001b[0;31mValueError\u001b[0m: Column needs to be specified."
     ]
    }
   ],
   "source": [
    "monitor = Monitor()  # stores simulation result on each step\n",
    "environment.add_microgrid(\n",
    "    actors=[\n",
    "        ComputingSystem(power_meters=[MockPowerMeter(p=3), MockPowerMeter(p=7)]),\n",
    "        Generator(signal=HistoricalSignal.from_dataset(\"solcast2022_global\")),\n",
    "    ],\n",
    "    controllers=[monitor],\n",
    "    storage=SimpleBattery(capacity=100),\n",
    "    step_size=60,  # global step size (can be overridden by actors or controllers)\n",
    ")\n",
    "\n",
    "environment.run(until=24 * 3600) # 24h\n",
    "monitor.to_csv(\"result.csv\")"
   ]
  },
  {
   "cell_type": "markdown",
   "metadata": {},
   "source": [
    "This scenario includes two Actors: a computing system with two power consuming\n",
    "nodes, and a generator which produces power based on historic solar data,\n",
    "turning it into a PV module. \n",
    "\n",
    "All Actors must be subclassed from the `Actor` ABC from \n",
    "[vessim.actor](https://github.com/dos-group/vessim/blob/main/vessim/actor.py)\n",
    "and at least implement the abstract method `p()` which returns the current power\n",
    "consumption or production.\n",
    "\n",
    "```python\n",
    "class Actor(ABC):\n",
    "    \"\"\"Abstract base class representing a power consumer or producer.\"\"\"\n",
    "\n",
    "    def __init__(self, name: str, step_size: Optional[int] = None):\n",
    "        self.name = name\n",
    "        self.step_size = step_size\n",
    "\n",
    "    @abstractmethod\n",
    "    def p(self, now: datetime) -> float:\n",
    "        \"\"\"Current power consumption/production to be used in the grid simulation.\"\"\"\n",
    "\n",
    "    def state(self, now: datetime) -> dict:\n",
    "        \"\"\"Current state of the actor to be used in controllers.\"\"\"\n",
    "        return {}\n",
    "\n",
    "    def finalize(self) -> None:\n",
    "        \"\"\"Perform any finalization tasks for the consumer.\n",
    "\n",
    "        This method can be overridden by subclasses to implement necessary\n",
    "        finalization steps.\n",
    "        \"\"\"\n",
    "        return\n",
    "```"
   ]
  }
 ],
 "metadata": {
  "kernelspec": {
   "display_name": "venv",
   "language": "python",
   "name": "python3"
  },
  "language_info": {
   "codemirror_mode": {
    "name": "ipython",
    "version": 3
   },
   "file_extension": ".py",
   "mimetype": "text/x-python",
   "name": "python",
   "nbconvert_exporter": "python",
   "pygments_lexer": "ipython3",
   "version": "3.12.1"
  }
 },
 "nbformat": 4,
 "nbformat_minor": 2
}
